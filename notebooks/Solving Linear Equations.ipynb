{
 "cells": [
  {
   "cell_type": "markdown",
   "metadata": {},
   "source": [
    "#                                            Solving Linear Equation "
   ]
  },
  {
   "cell_type": "markdown",
   "metadata": {},
   "source": [
    "__Definition: __ a mathematical expression that has an equal sign and linear expressions\n",
    "\n",
    "__Variable__: Linear equations include variables. A varibale is a number that you don't know, it is often represented by a letter, \"x\" or \"y\". "
   ]
  },
  {
   "cell_type": "markdown",
   "metadata": {},
   "source": [
    "__solve for $ X $ using one variable:__ \n",
    "                                                         $$ 4x + 6 = 10 $$"
   ]
  },
  {
   "cell_type": "markdown",
   "metadata": {},
   "source": [
    "__Step 1__: Substract 6 on both sides of the equation. $$ 4x + 6 = 10 $$\n",
    "                                      $$    - 6  - 6 $$\n",
    "                                      $$     4x = 4  $$\n",
    "                                      "
   ]
  },
  {
   "cell_type": "markdown",
   "metadata": {
    "collapsed": true
   },
   "source": [
    "__Step 2__: Divide 4 on both sides of the equation. $$\\frac{4x }{4}= \\frac{4}{4}   $$"
   ]
  },
  {
   "cell_type": "markdown",
   "metadata": {
    "collapsed": false
   },
   "source": [
    "__Answer__: $$ x = 4 $$"
   ]
  },
  {
   "cell_type": "markdown",
   "metadata": {
    "collapsed": true
   },
   "source": [
    "__Solve for $ X $ using two variables__: $$ 4x - 4y = 8 $$"
   ]
  },
  {
   "cell_type": "markdown",
   "metadata": {},
   "source": [
    "__Step 1__: Isolate \"x\" to one side of the equation by adding \"4y\" to both sides. \n",
    "$$ 4x - 4y = 8 $$\n",
    "$$    + 4y  + 4y $$\n",
    "$$ 4x = 8 + 4y $$"
   ]
  },
  {
   "cell_type": "markdown",
   "metadata": {},
   "source": [
    "__Step 2__: Divide both sides by 4. $$ \\frac{4x}{4} = \\frac{8 + 4y}{4} $$\n",
    "                                    $$ x = 2 + y $$"
   ]
  },
  {
   "cell_type": "markdown",
   "metadata": {},
   "source": [
    "__Step 3__: Check your work with your original equation. $$ 4x - 4y = 8 $$\n",
    "$$ 4(2 + y) - 4y = 8 $$\n",
    "$$ 8 + 4y - 4y = 8 $$\n",
    "$$ 8 = 8 $$"
   ]
  },
  {
   "cell_type": "markdown",
   "metadata": {
    "collapsed": true
   },
   "source": [
    "__Citation:__ http://www.studygs.net/equations.htm"
   ]
  },
  {
   "cell_type": "markdown",
   "metadata": {
    "collapsed": true
   },
   "source": []
  }
 ],
 "metadata": {
  "kernelspec": {
   "display_name": "Python 3",
   "language": "python",
   "name": "python3"
  },
  "language_info": {
   "codemirror_mode": {
    "name": "ipython",
    "version": 3
   },
   "file_extension": ".py",
   "mimetype": "text/x-python",
   "name": "python",
   "nbconvert_exporter": "python",
   "pygments_lexer": "ipython3",
   "version": "3.4.3"
  }
 },
 "nbformat": 4,
 "nbformat_minor": 0
}
